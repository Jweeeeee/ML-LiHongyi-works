{
 "cells": [
  {
   "cell_type": "markdown",
   "metadata": {},
   "source": [
    "# 手写字体识别"
   ]
  },
  {
   "cell_type": "markdown",
   "metadata": {},
   "source": [
    "## 数据预处理"
   ]
  },
  {
   "cell_type": "markdown",
   "metadata": {},
   "source": [
    "[python读取npz文件](https://blog.csdn.net/weixin_42499236/article/details/84027378)"
   ]
  },
  {
   "cell_type": "code",
   "execution_count": 2,
   "metadata": {
    "ExecuteTime": {
     "end_time": "2020-05-24T12:21:30.627062Z",
     "start_time": "2020-05-24T12:21:29.980646Z"
    }
   },
   "outputs": [],
   "source": [
    "import numpy as np\n",
    "import pandas as pd\n",
    "import matplotlib.pyplot as plt"
   ]
  },
  {
   "cell_type": "code",
   "execution_count": 3,
   "metadata": {
    "ExecuteTime": {
     "end_time": "2020-05-24T12:21:30.658654Z",
     "start_time": "2020-05-24T12:21:30.650625Z"
    }
   },
   "outputs": [],
   "source": [
    "path = r'D:\\JWE\\Files\\Courses\\数据挖掘\\work\\第十、十一章\\data'\n",
    "file = r'mnist.npz'\n",
    "\n",
    "data = np.load(path + '\\\\' + file)"
   ]
  },
  {
   "cell_type": "code",
   "execution_count": 5,
   "metadata": {
    "ExecuteTime": {
     "end_time": "2020-05-24T12:22:00.867983Z",
     "start_time": "2020-05-24T12:22:00.862913Z"
    }
   },
   "outputs": [
    {
     "data": {
      "text/plain": [
       "['x_test', 'x_train', 'y_train', 'y_test']"
      ]
     },
     "execution_count": 5,
     "metadata": {},
     "output_type": "execute_result"
    }
   ],
   "source": [
    "data.files"
   ]
  },
  {
   "cell_type": "code",
   "execution_count": 9,
   "metadata": {
    "ExecuteTime": {
     "end_time": "2020-05-24T12:22:58.391382Z",
     "start_time": "2020-05-24T12:22:58.036397Z"
    }
   },
   "outputs": [
    {
     "data": {
      "text/plain": [
       "(60000, 28, 28)"
      ]
     },
     "execution_count": 9,
     "metadata": {},
     "output_type": "execute_result"
    },
    {
     "data": {
      "text/plain": [
       "(10000, 28, 28)"
      ]
     },
     "execution_count": 9,
     "metadata": {},
     "output_type": "execute_result"
    },
    {
     "data": {
      "text/plain": [
       "(60000,)"
      ]
     },
     "execution_count": 9,
     "metadata": {},
     "output_type": "execute_result"
    },
    {
     "data": {
      "text/plain": [
       "(10000,)"
      ]
     },
     "execution_count": 9,
     "metadata": {},
     "output_type": "execute_result"
    }
   ],
   "source": [
    "data['x_train'].shape\n",
    "data['x_test'].shape\n",
    "data['y_train'].shape\n",
    "data['y_test'].shape"
   ]
  },
  {
   "cell_type": "markdown",
   "metadata": {},
   "source": [
    "## CNN "
   ]
  },
  {
   "cell_type": "markdown",
   "metadata": {},
   "source": [
    "[keras搭建CNN](https://blog.csdn.net/qq_35082030/article/details/79144374)"
   ]
  },
  {
   "cell_type": "code",
   "execution_count": 35,
   "metadata": {
    "ExecuteTime": {
     "end_time": "2020-05-24T14:30:41.066483Z",
     "start_time": "2020-05-24T14:30:41.061038Z"
    }
   },
   "outputs": [],
   "source": [
    "from keras.models import Sequential\n",
    "from keras.layers import Dense, Dropout, Flatten\n",
    "from keras.layers import Conv2D, MaxPooling2D\n",
    "from keras.utils import np_utils\n",
    "from keras.optimizers import SGD"
   ]
  },
  {
   "cell_type": "code",
   "execution_count": 39,
   "metadata": {
    "ExecuteTime": {
     "end_time": "2020-05-24T14:31:31.819463Z",
     "start_time": "2020-05-24T14:31:31.180205Z"
    }
   },
   "outputs": [],
   "source": [
    "X_train = data['x_train']\n",
    "Y_train = data['y_train']\n",
    "X_test = data['x_test']\n",
    "Y_test = data['y_test']\n",
    "\n",
    "X_train = X_train.reshape(X_train.shape[0],28,28,1)/255\n",
    "X_test = X_test.reshape(X_test.shape[0],28,28,1)/255\n",
    "Y_train = np_utils.to_categorical(Y_train,num_classes=10)\n",
    "Y_test = np_utils.to_categorical(Y_test,num_classes=10)"
   ]
  },
  {
   "cell_type": "code",
   "execution_count": 41,
   "metadata": {
    "ExecuteTime": {
     "end_time": "2020-05-24T14:31:31.987821Z",
     "start_time": "2020-05-24T14:31:31.914681Z"
    }
   },
   "outputs": [],
   "source": [
    "def CNN_create(x_train=X_train,y_train=Y_train,divide=0.2,batch_size=30,epochs=200,drop_rate=0.5):\n",
    "    CNN = Sequential()\n",
    "    # 一次卷积\n",
    "    CNN.add(Conv2D(25,(3,3),activation='relu',input_shape=(28,28,1))) # 卷积层\n",
    "    CNN.add(MaxPooling2D(pool_size=(2,2))) # 池化层\n",
    "#     CNN.add(Dropout(0.5)) # 遗忘层\n",
    "    # 二次卷积\n",
    "    CNN.add(Conv2D(50,(3,3), activation='relu'))\n",
    "    CNN.add(MaxPooling2D(pool_size=(2,2)))\n",
    "#     CNN.add(Dropout(0.5))\n",
    "    CNN.add(Flatten()) # 压平层\n",
    "    CNN.add(Dense(100,activation='relu')) # 全连接层\n",
    "#     CNN.add(Dropout(0.5)) # 遗忘层\n",
    "    CNN.add(Dense(10,activation='softmax')) # 输出层\n",
    "    CNN.compile(loss='categorical_crossentropy',\n",
    "                  optimizer='adam',\n",
    "                  metrics=['accuracy']) # 'binary_crossentropy' 二分类\n",
    "    CNN.fit(x_train,y_train,batch_size=batch_size,epochs=epochs,validation_split=divide)\n",
    "    return CNN"
   ]
  },
  {
   "cell_type": "code",
   "execution_count": 45,
   "metadata": {
    "ExecuteTime": {
     "end_time": "2020-05-24T14:35:11.949924Z",
     "start_time": "2020-05-24T14:33:20.991186Z"
    }
   },
   "outputs": [
    {
     "name": "stdout",
     "output_type": "stream",
     "text": [
      "Train on 48000 samples, validate on 12000 samples\n",
      "Epoch 1/5\n",
      "48000/48000 [==============================] - 22s 449us/step - loss: 1.9794 - accuracy: 0.5521 - val_loss: 1.3520 - val_accuracy: 0.7467\n",
      "Epoch 2/5\n",
      "48000/48000 [==============================] - 22s 462us/step - loss: 0.8795 - accuracy: 0.7862 - val_loss: 0.4658 - val_accuracy: 0.8677\n",
      "Epoch 3/5\n",
      "48000/48000 [==============================] - 23s 484us/step - loss: 0.4080 - accuracy: 0.8792 - val_loss: 0.2976 - val_accuracy: 0.9138\n",
      "Epoch 4/5\n",
      "48000/48000 [==============================] - 22s 451us/step - loss: 0.2925 - accuracy: 0.9133 - val_loss: 0.2351 - val_accuracy: 0.9329\n",
      "Epoch 5/5\n",
      "48000/48000 [==============================] - 22s 454us/step - loss: 0.2289 - accuracy: 0.9313 - val_loss: 0.1870 - val_accuracy: 0.9459\n"
     ]
    }
   ],
   "source": [
    "CNN = CNN_create(x_train=X_train,y_train=Y_train,batch_size=4000,epochs=5)"
   ]
  },
  {
   "cell_type": "code",
   "execution_count": 46,
   "metadata": {
    "ExecuteTime": {
     "end_time": "2020-05-24T14:35:25.526321Z",
     "start_time": "2020-05-24T14:35:12.023078Z"
    }
   },
   "outputs": [
    {
     "name": "stdout",
     "output_type": "stream",
     "text": [
      "60000/60000 [==============================] - 12s 195us/step\n"
     ]
    },
    {
     "data": {
      "text/plain": [
       "[0.19714351520091294, 0.9409666657447815]"
      ]
     },
     "execution_count": 46,
     "metadata": {},
     "output_type": "execute_result"
    }
   ],
   "source": [
    "CNN.evaluate(X_train,Y_train)"
   ]
  },
  {
   "cell_type": "code",
   "execution_count": 59,
   "metadata": {
    "ExecuteTime": {
     "end_time": "2020-05-24T14:44:11.880114Z",
     "start_time": "2020-05-24T14:44:10.244821Z"
    }
   },
   "outputs": [],
   "source": [
    "output = CNN.predict(X_test)\n",
    "result = [np.argmax(each) for each in output]"
   ]
  },
  {
   "cell_type": "code",
   "execution_count": 62,
   "metadata": {
    "ExecuteTime": {
     "end_time": "2020-05-24T14:45:24.515535Z",
     "start_time": "2020-05-24T14:45:24.106021Z"
    }
   },
   "outputs": [],
   "source": [
    "CNN_output = pd.DataFrame({'id':[i+1 for i in range(len(result))],'label':result})\n",
    "CNN_output.to_csv(r'D:\\JWE\\Files\\Courses\\数据挖掘\\work\\第十、十一章\\CNN_output.csv',index=False)"
   ]
  }
 ],
 "metadata": {
  "hide_input": false,
  "kernelspec": {
   "display_name": "Python 3",
   "language": "python",
   "name": "python3"
  },
  "language_info": {
   "codemirror_mode": {
    "name": "ipython",
    "version": 3
   },
   "file_extension": ".py",
   "mimetype": "text/x-python",
   "name": "python",
   "nbconvert_exporter": "python",
   "pygments_lexer": "ipython3",
   "version": "3.7.3"
  },
  "toc": {
   "base_numbering": 1,
   "nav_menu": {},
   "number_sections": true,
   "sideBar": true,
   "skip_h1_title": false,
   "title_cell": "Table of Contents",
   "title_sidebar": "Contents",
   "toc_cell": false,
   "toc_position": {},
   "toc_section_display": true,
   "toc_window_display": false
  },
  "varInspector": {
   "cols": {
    "lenName": 16,
    "lenType": 16,
    "lenVar": 40
   },
   "kernels_config": {
    "python": {
     "delete_cmd_postfix": "",
     "delete_cmd_prefix": "del ",
     "library": "var_list.py",
     "varRefreshCmd": "print(var_dic_list())"
    },
    "r": {
     "delete_cmd_postfix": ") ",
     "delete_cmd_prefix": "rm(",
     "library": "var_list.r",
     "varRefreshCmd": "cat(var_dic_list()) "
    }
   },
   "types_to_exclude": [
    "module",
    "function",
    "builtin_function_or_method",
    "instance",
    "_Feature"
   ],
   "window_display": false
  }
 },
 "nbformat": 4,
 "nbformat_minor": 4
}
