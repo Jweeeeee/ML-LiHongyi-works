{
 "cells": [
  {
   "cell_type": "markdown",
   "metadata": {},
   "source": [
    "# BP神经网络收入预测"
   ]
  },
  {
   "cell_type": "markdown",
   "metadata": {
    "heading_collapsed": true
   },
   "source": [
    "## 数据预处理"
   ]
  },
  {
   "cell_type": "code",
   "execution_count": 1,
   "metadata": {
    "ExecuteTime": {
     "end_time": "2020-05-24T10:41:26.442803Z",
     "start_time": "2020-05-24T10:41:23.248418Z"
    },
    "hidden": true
   },
   "outputs": [],
   "source": [
    "import numpy as np\n",
    "import pandas as pd\n",
    "import matplotlib.pyplot as plt"
   ]
  },
  {
   "cell_type": "code",
   "execution_count": 2,
   "metadata": {
    "ExecuteTime": {
     "end_time": "2020-05-24T10:41:26.647347Z",
     "start_time": "2020-05-24T10:41:26.459772Z"
    },
    "hidden": true
   },
   "outputs": [],
   "source": [
    "path = r'D:\\JWE\\Files\\Courses\\数据挖掘\\work\\第七-九章\\data'\n",
    "file_train = 'train.csv'\n",
    "file_test = 'test.csv'\n",
    "file_answer = 'correct_answer.csv'\n",
    "\n",
    "train = pd.read_csv(path + '\\\\' + file_train)\n",
    "test = pd.read_csv(path + '\\\\' + file_test)\n",
    "answer = pd.read_csv(path + '\\\\' + file_answer)\n",
    "income_data = pd.concat([train.copy(), test.copy()], sort=False)"
   ]
  },
  {
   "cell_type": "code",
   "execution_count": 4,
   "metadata": {
    "ExecuteTime": {
     "end_time": "2020-05-24T10:46:19.244233Z",
     "start_time": "2020-05-24T10:46:19.139790Z"
    },
    "hidden": true
   },
   "outputs": [],
   "source": [
    "data0 = pd.get_dummies(income_data)\n",
    "train_onehot = data0.iloc[:32561,:]\n",
    "test_onehot = data0.iloc[32561:,:108]"
   ]
  },
  {
   "cell_type": "markdown",
   "metadata": {},
   "source": [
    "## BP using keras"
   ]
  },
  {
   "cell_type": "code",
   "execution_count": 3,
   "metadata": {
    "ExecuteTime": {
     "end_time": "2020-05-24T10:44:21.441268Z",
     "start_time": "2020-05-24T10:44:05.014519Z"
    }
   },
   "outputs": [
    {
     "name": "stderr",
     "output_type": "stream",
     "text": [
      "Using TensorFlow backend.\n"
     ]
    }
   ],
   "source": [
    "from keras.models import Sequential\n",
    "from keras.layers import Dense\n",
    "from keras.layers import Dropout\n",
    "from keras.utils import to_categorical\n",
    "from keras.wrappers.scikit_learn import KerasClassifier"
   ]
  },
  {
   "cell_type": "code",
   "execution_count": 8,
   "metadata": {
    "ExecuteTime": {
     "end_time": "2020-05-24T11:00:58.920282Z",
     "start_time": "2020-05-24T11:00:58.903235Z"
    }
   },
   "outputs": [],
   "source": [
    "X_train = train_onehot.iloc[:,:108]\n",
    "Y_train = train_onehot.iloc[:,108:]\n",
    "X_test = test_onehot"
   ]
  },
  {
   "cell_type": "code",
   "execution_count": 9,
   "metadata": {
    "ExecuteTime": {
     "end_time": "2020-05-24T11:00:59.133681Z",
     "start_time": "2020-05-24T11:00:59.123087Z"
    }
   },
   "outputs": [],
   "source": [
    "def DNN_create(k=1,x_train=X_train,y_train=Y_train,units=50,divide=0.2,batch_size=30,epochs=200,drop_rate=0.5):\n",
    "    long = len(x_train.head(1).values[0])\n",
    "    DNN = Sequential()\n",
    "    DNN.add(Dense(units=units,input_dim=long,activation='relu')) # 输入层\n",
    "    # droupout层，减少overfiting\n",
    "    for i in range(k):\n",
    "#         if (k+1)%2:\n",
    "#             DNN.add(Dropout(drop_rate))\n",
    "        DNN.add(Dropout(drop_rate))\n",
    "        DNN.add(Dense(units=units,activation='relu'))\n",
    "    DNN.add(Dense(units=2,activation='softmax')) # 输出层\n",
    "    DNN.compile(loss='binary_crossentropy',\n",
    "                  optimizer='adam',\n",
    "                  metrics=['accuracy']) # 'categorical_crossentropy' 多分类\n",
    "    DNN.fit(x_train,y_train,batch_size=batch_size,epochs=epochs,validation_split=divide)\n",
    "    return DNN"
   ]
  },
  {
   "cell_type": "code",
   "execution_count": 35,
   "metadata": {
    "ExecuteTime": {
     "end_time": "2020-05-24T11:21:40.892169Z",
     "start_time": "2020-05-24T11:21:05.968033Z"
    }
   },
   "outputs": [
    {
     "name": "stdout",
     "output_type": "stream",
     "text": [
      "Train on 26048 samples, validate on 6513 samples\n",
      "Epoch 1/100\n",
      "26048/26048 [==============================] - 0s 18us/step - loss: 4.1770 - accuracy: 0.7282 - val_loss: 3.7677 - val_accuracy: 0.7543\n",
      "Epoch 2/100\n",
      "26048/26048 [==============================] - 0s 12us/step - loss: 3.6895 - accuracy: 0.7601 - val_loss: 3.7677 - val_accuracy: 0.7543\n",
      "Epoch 3/100\n",
      "26048/26048 [==============================] - 0s 13us/step - loss: 3.6865 - accuracy: 0.7603 - val_loss: 3.7677 - val_accuracy: 0.7543\n",
      "Epoch 4/100\n",
      "26048/26048 [==============================] - 0s 15us/step - loss: 3.6860 - accuracy: 0.7603 - val_loss: 3.7677 - val_accuracy: 0.7543\n",
      "Epoch 5/100\n",
      "26048/26048 [==============================] - 0s 14us/step - loss: 3.6865 - accuracy: 0.7603 - val_loss: 3.7677 - val_accuracy: 0.7543\n",
      "Epoch 6/100\n",
      "26048/26048 [==============================] - 0s 14us/step - loss: 3.6854 - accuracy: 0.7604 - val_loss: 3.7677 - val_accuracy: 0.7543\n",
      "Epoch 7/100\n",
      "26048/26048 [==============================] - 0s 14us/step - loss: 3.6871 - accuracy: 0.7603 - val_loss: 3.7677 - val_accuracy: 0.7543\n",
      "Epoch 8/100\n",
      "26048/26048 [==============================] - 0s 14us/step - loss: 3.6854 - accuracy: 0.7604 - val_loss: 3.7677 - val_accuracy: 0.7543\n",
      "Epoch 9/100\n",
      "26048/26048 [==============================] - 0s 13us/step - loss: 3.6848 - accuracy: 0.7604 - val_loss: 3.7677 - val_accuracy: 0.7543\n",
      "Epoch 10/100\n",
      "26048/26048 [==============================] - 0s 13us/step - loss: 3.6848 - accuracy: 0.7604 - val_loss: 3.7677 - val_accuracy: 0.7543\n",
      "Epoch 11/100\n",
      "26048/26048 [==============================] - 0s 13us/step - loss: 3.6842 - accuracy: 0.7604 - val_loss: 3.7677 - val_accuracy: 0.7543\n",
      "Epoch 12/100\n",
      "26048/26048 [==============================] - 1s 20us/step - loss: 3.6842 - accuracy: 0.7604 - val_loss: 3.7677 - val_accuracy: 0.7543\n",
      "Epoch 13/100\n",
      "26048/26048 [==============================] - 0s 13us/step - loss: 3.6854 - accuracy: 0.7604 - val_loss: 3.7677 - val_accuracy: 0.7543\n",
      "Epoch 14/100\n",
      "26048/26048 [==============================] - 0s 13us/step - loss: 3.6842 - accuracy: 0.7604 - val_loss: 3.7677 - val_accuracy: 0.7543\n",
      "Epoch 15/100\n",
      "26048/26048 [==============================] - 0s 15us/step - loss: 3.6842 - accuracy: 0.7604 - val_loss: 3.7677 - val_accuracy: 0.7543\n",
      "Epoch 16/100\n",
      "26048/26048 [==============================] - 0s 14us/step - loss: 3.6883 - accuracy: 0.7602 - val_loss: 3.7677 - val_accuracy: 0.7543\n",
      "Epoch 17/100\n",
      "26048/26048 [==============================] - 0s 16us/step - loss: 3.6848 - accuracy: 0.7604 - val_loss: 3.7677 - val_accuracy: 0.7543\n",
      "Epoch 18/100\n",
      "26048/26048 [==============================] - 0s 18us/step - loss: 3.6871 - accuracy: 0.7603 - val_loss: 3.7677 - val_accuracy: 0.7543\n",
      "Epoch 19/100\n",
      "26048/26048 [==============================] - 0s 16us/step - loss: 3.6871 - accuracy: 0.7603 - val_loss: 3.7677 - val_accuracy: 0.7543\n",
      "Epoch 20/100\n",
      "26048/26048 [==============================] - 0s 15us/step - loss: 3.6848 - accuracy: 0.7604 - val_loss: 3.7677 - val_accuracy: 0.7543\n",
      "Epoch 21/100\n",
      "26048/26048 [==============================] - 0s 12us/step - loss: 3.6854 - accuracy: 0.7604 - val_loss: 3.7677 - val_accuracy: 0.7543\n",
      "Epoch 22/100\n",
      "26048/26048 [==============================] - 0s 11us/step - loss: 3.6860 - accuracy: 0.7603 - val_loss: 3.7677 - val_accuracy: 0.7543\n",
      "Epoch 23/100\n",
      "26048/26048 [==============================] - 0s 11us/step - loss: 3.6860 - accuracy: 0.7603 - val_loss: 3.7677 - val_accuracy: 0.7543\n",
      "Epoch 24/100\n",
      "26048/26048 [==============================] - 0s 11us/step - loss: 3.6848 - accuracy: 0.7604 - val_loss: 3.7677 - val_accuracy: 0.7543\n",
      "Epoch 25/100\n",
      "26048/26048 [==============================] - 0s 11us/step - loss: 3.6848 - accuracy: 0.7604 - val_loss: 3.7677 - val_accuracy: 0.7543\n",
      "Epoch 26/100\n",
      "26048/26048 [==============================] - 0s 14us/step - loss: 3.6860 - accuracy: 0.7603 - val_loss: 3.7677 - val_accuracy: 0.7543\n",
      "Epoch 27/100\n",
      "26048/26048 [==============================] - 0s 16us/step - loss: 3.6854 - accuracy: 0.7604 - val_loss: 3.7677 - val_accuracy: 0.7543\n",
      "Epoch 28/100\n",
      "26048/26048 [==============================] - 0s 10us/step - loss: 3.6854 - accuracy: 0.7604 - val_loss: 3.7677 - val_accuracy: 0.7543\n",
      "Epoch 29/100\n",
      "26048/26048 [==============================] - 0s 11us/step - loss: 3.6854 - accuracy: 0.7604 - val_loss: 3.7677 - val_accuracy: 0.7543\n",
      "Epoch 30/100\n",
      "26048/26048 [==============================] - 0s 11us/step - loss: 3.6842 - accuracy: 0.7604 - val_loss: 3.7677 - val_accuracy: 0.7543\n",
      "Epoch 31/100\n",
      "26048/26048 [==============================] - 0s 12us/step - loss: 3.6860 - accuracy: 0.7603 - val_loss: 3.7677 - val_accuracy: 0.7543\n",
      "Epoch 32/100\n",
      "26048/26048 [==============================] - 0s 13us/step - loss: 3.6865 - accuracy: 0.7603 - val_loss: 3.7677 - val_accuracy: 0.7543\n",
      "Epoch 33/100\n",
      "26048/26048 [==============================] - 0s 11us/step - loss: 3.6871 - accuracy: 0.7603 - val_loss: 3.7677 - val_accuracy: 0.7543\n",
      "Epoch 34/100\n",
      "26048/26048 [==============================] - 0s 12us/step - loss: 3.6854 - accuracy: 0.7604 - val_loss: 3.7677 - val_accuracy: 0.7543\n",
      "Epoch 35/100\n",
      "26048/26048 [==============================] - 0s 11us/step - loss: 3.6865 - accuracy: 0.7603 - val_loss: 3.7677 - val_accuracy: 0.7543\n",
      "Epoch 36/100\n",
      "26048/26048 [==============================] - 0s 12us/step - loss: 3.6860 - accuracy: 0.7603 - val_loss: 3.7677 - val_accuracy: 0.7543\n",
      "Epoch 37/100\n",
      "26048/26048 [==============================] - 0s 11us/step - loss: 3.6848 - accuracy: 0.7604 - val_loss: 3.7677 - val_accuracy: 0.7543\n",
      "Epoch 38/100\n",
      "26048/26048 [==============================] - 0s 11us/step - loss: 3.6848 - accuracy: 0.7604 - val_loss: 3.7677 - val_accuracy: 0.7543\n",
      "Epoch 39/100\n",
      "26048/26048 [==============================] - 0s 11us/step - loss: 3.6854 - accuracy: 0.7604 - val_loss: 3.7677 - val_accuracy: 0.7543\n",
      "Epoch 40/100\n",
      "26048/26048 [==============================] - 0s 11us/step - loss: 3.6848 - accuracy: 0.7604 - val_loss: 3.7677 - val_accuracy: 0.7543\n",
      "Epoch 41/100\n",
      "26048/26048 [==============================] - 0s 12us/step - loss: 3.6848 - accuracy: 0.7604 - val_loss: 3.7677 - val_accuracy: 0.7543\n",
      "Epoch 42/100\n",
      "26048/26048 [==============================] - 0s 11us/step - loss: 3.6860 - accuracy: 0.7603 - val_loss: 3.7677 - val_accuracy: 0.7543\n",
      "Epoch 43/100\n",
      "26048/26048 [==============================] - 0s 12us/step - loss: 3.6854 - accuracy: 0.7604 - val_loss: 3.7677 - val_accuracy: 0.7543\n",
      "Epoch 44/100\n",
      "26048/26048 [==============================] - 0s 12us/step - loss: 3.6848 - accuracy: 0.7604 - val_loss: 3.7677 - val_accuracy: 0.7543\n",
      "Epoch 45/100\n",
      "26048/26048 [==============================] - 0s 12us/step - loss: 3.6865 - accuracy: 0.7603 - val_loss: 3.7677 - val_accuracy: 0.7543\n",
      "Epoch 46/100\n",
      "26048/26048 [==============================] - 0s 11us/step - loss: 3.6854 - accuracy: 0.7604 - val_loss: 3.7677 - val_accuracy: 0.7543\n",
      "Epoch 47/100\n",
      "26048/26048 [==============================] - 0s 15us/step - loss: 3.6854 - accuracy: 0.7604 - val_loss: 3.7677 - val_accuracy: 0.7543\n",
      "Epoch 48/100\n",
      "26048/26048 [==============================] - 0s 15us/step - loss: 3.6860 - accuracy: 0.7603 - val_loss: 3.7677 - val_accuracy: 0.7543\n",
      "Epoch 49/100\n",
      "26048/26048 [==============================] - 0s 13us/step - loss: 3.6860 - accuracy: 0.7603 - val_loss: 3.7677 - val_accuracy: 0.7543\n",
      "Epoch 50/100\n",
      "26048/26048 [==============================] - 0s 12us/step - loss: 3.6848 - accuracy: 0.7604 - val_loss: 3.7677 - val_accuracy: 0.7543\n",
      "Epoch 51/100\n",
      "26048/26048 [==============================] - 0s 12us/step - loss: 3.6848 - accuracy: 0.7604 - val_loss: 3.7677 - val_accuracy: 0.7543\n",
      "Epoch 52/100\n",
      "26048/26048 [==============================] - 0s 11us/step - loss: 3.6854 - accuracy: 0.7604 - val_loss: 3.7677 - val_accuracy: 0.7543\n",
      "Epoch 53/100\n",
      "26048/26048 [==============================] - 0s 19us/step - loss: 3.6842 - accuracy: 0.7604 - val_loss: 3.7677 - val_accuracy: 0.7543\n",
      "Epoch 54/100\n",
      "26048/26048 [==============================] - 0s 16us/step - loss: 3.6860 - accuracy: 0.7603 - val_loss: 3.7677 - val_accuracy: 0.7543\n",
      "Epoch 55/100\n",
      "26048/26048 [==============================] - 0s 16us/step - loss: 3.6842 - accuracy: 0.7604 - val_loss: 3.7677 - val_accuracy: 0.7543\n"
     ]
    },
    {
     "name": "stdout",
     "output_type": "stream",
     "text": [
      "Epoch 56/100\n",
      "26048/26048 [==============================] - 0s 11us/step - loss: 3.6854 - accuracy: 0.7604 - val_loss: 3.7677 - val_accuracy: 0.7543\n",
      "Epoch 57/100\n",
      "26048/26048 [==============================] - 0s 10us/step - loss: 3.6860 - accuracy: 0.7603 - val_loss: 3.7677 - val_accuracy: 0.7543\n",
      "Epoch 58/100\n",
      "26048/26048 [==============================] - 0s 12us/step - loss: 3.6842 - accuracy: 0.7604 - val_loss: 3.7677 - val_accuracy: 0.7543\n",
      "Epoch 59/100\n",
      "26048/26048 [==============================] - 0s 11us/step - loss: 3.6860 - accuracy: 0.7603 - val_loss: 3.7677 - val_accuracy: 0.7543\n",
      "Epoch 60/100\n",
      "26048/26048 [==============================] - 0s 11us/step - loss: 3.6860 - accuracy: 0.7603 - val_loss: 3.7677 - val_accuracy: 0.7543\n",
      "Epoch 61/100\n",
      "26048/26048 [==============================] - 0s 11us/step - loss: 3.6854 - accuracy: 0.7604 - val_loss: 3.7677 - val_accuracy: 0.7543\n",
      "Epoch 62/100\n",
      "26048/26048 [==============================] - 0s 12us/step - loss: 3.6854 - accuracy: 0.7604 - val_loss: 3.7677 - val_accuracy: 0.7543\n",
      "Epoch 63/100\n",
      "26048/26048 [==============================] - 0s 12us/step - loss: 3.6848 - accuracy: 0.7604 - val_loss: 3.7677 - val_accuracy: 0.7543\n",
      "Epoch 64/100\n",
      "26048/26048 [==============================] - 0s 12us/step - loss: 3.6842 - accuracy: 0.7604 - val_loss: 3.7677 - val_accuracy: 0.7543\n",
      "Epoch 65/100\n",
      "26048/26048 [==============================] - 0s 12us/step - loss: 3.6842 - accuracy: 0.7604 - val_loss: 3.7677 - val_accuracy: 0.7543\n",
      "Epoch 66/100\n",
      "26048/26048 [==============================] - 0s 17us/step - loss: 3.6842 - accuracy: 0.7604 - val_loss: 3.7677 - val_accuracy: 0.7543\n",
      "Epoch 67/100\n",
      "26048/26048 [==============================] - 0s 13us/step - loss: 3.6842 - accuracy: 0.7604 - val_loss: 3.7677 - val_accuracy: 0.7543\n",
      "Epoch 68/100\n",
      "26048/26048 [==============================] - 0s 14us/step - loss: 3.6854 - accuracy: 0.7604 - val_loss: 3.7677 - val_accuracy: 0.7543\n",
      "Epoch 69/100\n",
      "26048/26048 [==============================] - 0s 11us/step - loss: 3.6842 - accuracy: 0.7604 - val_loss: 3.7677 - val_accuracy: 0.7543\n",
      "Epoch 70/100\n",
      "26048/26048 [==============================] - 0s 12us/step - loss: 3.6854 - accuracy: 0.7604 - val_loss: 3.7677 - val_accuracy: 0.7543\n",
      "Epoch 71/100\n",
      "26048/26048 [==============================] - 0s 11us/step - loss: 3.6846 - accuracy: 0.7604 - val_loss: 3.7677 - val_accuracy: 0.7543\n",
      "Epoch 72/100\n",
      "26048/26048 [==============================] - 0s 10us/step - loss: 3.6848 - accuracy: 0.7604 - val_loss: 3.7677 - val_accuracy: 0.7543\n",
      "Epoch 73/100\n",
      "26048/26048 [==============================] - 0s 11us/step - loss: 3.6848 - accuracy: 0.7604 - val_loss: 3.7677 - val_accuracy: 0.7543\n",
      "Epoch 74/100\n",
      "26048/26048 [==============================] - 0s 10us/step - loss: 3.6842 - accuracy: 0.7604 - val_loss: 3.7677 - val_accuracy: 0.7543\n",
      "Epoch 75/100\n",
      "26048/26048 [==============================] - 0s 10us/step - loss: 3.6848 - accuracy: 0.7604 - val_loss: 3.7677 - val_accuracy: 0.7543\n",
      "Epoch 76/100\n",
      "26048/26048 [==============================] - 0s 10us/step - loss: 3.6842 - accuracy: 0.7604 - val_loss: 3.7677 - val_accuracy: 0.7543\n",
      "Epoch 77/100\n",
      "26048/26048 [==============================] - 0s 10us/step - loss: 3.6848 - accuracy: 0.7604 - val_loss: 3.7677 - val_accuracy: 0.7543\n",
      "Epoch 78/100\n",
      "26048/26048 [==============================] - 0s 11us/step - loss: 3.6848 - accuracy: 0.7604 - val_loss: 3.7677 - val_accuracy: 0.7543\n",
      "Epoch 79/100\n",
      "26048/26048 [==============================] - 0s 10us/step - loss: 3.6848 - accuracy: 0.7604 - val_loss: 3.7677 - val_accuracy: 0.7543\n",
      "Epoch 80/100\n",
      "26048/26048 [==============================] - 0s 10us/step - loss: 3.6848 - accuracy: 0.7604 - val_loss: 3.7677 - val_accuracy: 0.7543\n",
      "Epoch 81/100\n",
      "26048/26048 [==============================] - 0s 11us/step - loss: 3.6848 - accuracy: 0.7604 - val_loss: 3.7677 - val_accuracy: 0.7543\n",
      "Epoch 82/100\n",
      "26048/26048 [==============================] - 0s 10us/step - loss: 3.6848 - accuracy: 0.7604 - val_loss: 3.7677 - val_accuracy: 0.7543\n",
      "Epoch 83/100\n",
      "26048/26048 [==============================] - 0s 11us/step - loss: 3.6848 - accuracy: 0.7604 - val_loss: 3.7677 - val_accuracy: 0.7543\n",
      "Epoch 84/100\n",
      "26048/26048 [==============================] - 0s 14us/step - loss: 3.6848 - accuracy: 0.7604 - val_loss: 3.7677 - val_accuracy: 0.7543\n",
      "Epoch 85/100\n",
      "26048/26048 [==============================] - 0s 18us/step - loss: 3.6848 - accuracy: 0.7604 - val_loss: 3.7677 - val_accuracy: 0.7543\n",
      "Epoch 86/100\n",
      "26048/26048 [==============================] - 0s 16us/step - loss: 3.6848 - accuracy: 0.7604 - val_loss: 3.7677 - val_accuracy: 0.7543\n",
      "Epoch 87/100\n",
      "26048/26048 [==============================] - 0s 19us/step - loss: 3.6854 - accuracy: 0.7604 - val_loss: 3.7677 - val_accuracy: 0.7543\n",
      "Epoch 88/100\n",
      "26048/26048 [==============================] - 0s 16us/step - loss: 3.6848 - accuracy: 0.7604 - val_loss: 3.7677 - val_accuracy: 0.7543\n",
      "Epoch 89/100\n",
      "26048/26048 [==============================] - 1s 23us/step - loss: 3.6854 - accuracy: 0.7604 - val_loss: 3.7677 - val_accuracy: 0.7543\n",
      "Epoch 90/100\n",
      "26048/26048 [==============================] - 0s 16us/step - loss: 3.6848 - accuracy: 0.7604 - val_loss: 3.7677 - val_accuracy: 0.7543\n",
      "Epoch 91/100\n",
      "26048/26048 [==============================] - 0s 17us/step - loss: 3.6848 - accuracy: 0.7604 - val_loss: 3.7677 - val_accuracy: 0.7543\n",
      "Epoch 92/100\n",
      "26048/26048 [==============================] - 0s 16us/step - loss: 3.6848 - accuracy: 0.7604 - val_loss: 3.7677 - val_accuracy: 0.7543\n",
      "Epoch 93/100\n",
      "26048/26048 [==============================] - 0s 13us/step - loss: 3.6848 - accuracy: 0.7604 - val_loss: 3.7677 - val_accuracy: 0.7543\n",
      "Epoch 94/100\n",
      "26048/26048 [==============================] - 0s 16us/step - loss: 3.6848 - accuracy: 0.7604 - val_loss: 3.7677 - val_accuracy: 0.7543\n",
      "Epoch 95/100\n",
      "26048/26048 [==============================] - 0s 12us/step - loss: 3.6848 - accuracy: 0.7604 - val_loss: 3.7677 - val_accuracy: 0.7543\n",
      "Epoch 96/100\n",
      "26048/26048 [==============================] - 0s 12us/step - loss: 3.6848 - accuracy: 0.7604 - val_loss: 3.7677 - val_accuracy: 0.7543\n",
      "Epoch 97/100\n",
      "26048/26048 [==============================] - 0s 14us/step - loss: 3.6848 - accuracy: 0.7604 - val_loss: 3.7677 - val_accuracy: 0.7543\n",
      "Epoch 98/100\n",
      "26048/26048 [==============================] - 0s 12us/step - loss: 3.6848 - accuracy: 0.7604 - val_loss: 3.7677 - val_accuracy: 0.7543\n",
      "Epoch 99/100\n",
      "26048/26048 [==============================] - 0s 12us/step - loss: 3.6848 - accuracy: 0.7604 - val_loss: 3.7677 - val_accuracy: 0.7543\n",
      "Epoch 100/100\n",
      "26048/26048 [==============================] - 0s 14us/step - loss: 3.6848 - accuracy: 0.7604 - val_loss: 3.7677 - val_accuracy: 0.7543\n"
     ]
    }
   ],
   "source": [
    "DNN = DNN_create(k=2,drop_rate=0.5,x_train=X_train,y_train=Y_train,units=100,batch_size=2000,epochs=100)"
   ]
  },
  {
   "cell_type": "code",
   "execution_count": 49,
   "metadata": {
    "ExecuteTime": {
     "end_time": "2020-05-24T11:30:19.420274Z",
     "start_time": "2020-05-24T11:30:18.497291Z"
    }
   },
   "outputs": [
    {
     "name": "stdout",
     "output_type": "stream",
     "text": [
      "32561/32561 [==============================] - 1s 21us/step\n"
     ]
    },
    {
     "data": {
      "text/plain": [
       "[3.693318721531306, 0.7591904401779175]"
      ]
     },
     "execution_count": 49,
     "metadata": {},
     "output_type": "execute_result"
    }
   ],
   "source": [
    "DNN.evaluate(X_train,Y_train)\n",
    "\n",
    "result = DNN.predict(X_test.values)"
   ]
  },
  {
   "cell_type": "code",
   "execution_count": 50,
   "metadata": {
    "ExecuteTime": {
     "end_time": "2020-05-24T11:30:20.029356Z",
     "start_time": "2020-05-24T11:30:19.921351Z"
    }
   },
   "outputs": [],
   "source": [
    "DNN_output = pd.DataFrame({'id':[i+1 for i in range(len(result))],'label':[1 if result[i,1] >= 1 else 0 for i in range(len(result))]})\n",
    "DNN_output.to_csv(r'D:\\JWE\\Files\\Courses\\数据挖掘\\work\\第七-九章\\DNN_output.csv',index=False)"
   ]
  },
  {
   "cell_type": "markdown",
   "metadata": {},
   "source": [
    "数据预处理仍然很重要，没有合适的处理，结果会很坏。"
   ]
  }
 ],
 "metadata": {
  "hide_input": false,
  "kernelspec": {
   "display_name": "Python 3",
   "language": "python",
   "name": "python3"
  },
  "language_info": {
   "codemirror_mode": {
    "name": "ipython",
    "version": 3
   },
   "file_extension": ".py",
   "mimetype": "text/x-python",
   "name": "python",
   "nbconvert_exporter": "python",
   "pygments_lexer": "ipython3",
   "version": "3.7.3"
  },
  "toc": {
   "base_numbering": 1,
   "nav_menu": {},
   "number_sections": true,
   "sideBar": true,
   "skip_h1_title": false,
   "title_cell": "Table of Contents",
   "title_sidebar": "Contents",
   "toc_cell": false,
   "toc_position": {},
   "toc_section_display": true,
   "toc_window_display": false
  },
  "varInspector": {
   "cols": {
    "lenName": 16,
    "lenType": 16,
    "lenVar": 40
   },
   "kernels_config": {
    "python": {
     "delete_cmd_postfix": "",
     "delete_cmd_prefix": "del ",
     "library": "var_list.py",
     "varRefreshCmd": "print(var_dic_list())"
    },
    "r": {
     "delete_cmd_postfix": ") ",
     "delete_cmd_prefix": "rm(",
     "library": "var_list.r",
     "varRefreshCmd": "cat(var_dic_list()) "
    }
   },
   "types_to_exclude": [
    "module",
    "function",
    "builtin_function_or_method",
    "instance",
    "_Feature"
   ],
   "window_display": false
  }
 },
 "nbformat": 4,
 "nbformat_minor": 4
}
